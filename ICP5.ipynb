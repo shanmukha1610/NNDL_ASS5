{
 "cells": [
  {
   "cell_type": "code",
   "execution_count": 339,
   "id": "c7352351",
   "metadata": {},
   "outputs": [],
   "source": [
    "#Importing packages to create arrays\n",
    "import pandas as pd\n",
    "import numpy as np"
   ]
  },
  {
   "cell_type": "code",
   "execution_count": 340,
   "id": "c3368ef1",
   "metadata": {},
   "outputs": [],
   "source": [
    "#loading data set\n",
    "df=pd.read_csv(\"glass.csv\")\n"
   ]
  },
  {
   "cell_type": "code",
   "execution_count": 341,
   "id": "1274e711",
   "metadata": {},
   "outputs": [
    {
     "data": {
      "text/html": [
       "<div>\n",
       "<style scoped>\n",
       "    .dataframe tbody tr th:only-of-type {\n",
       "        vertical-align: middle;\n",
       "    }\n",
       "\n",
       "    .dataframe tbody tr th {\n",
       "        vertical-align: top;\n",
       "    }\n",
       "\n",
       "    .dataframe thead th {\n",
       "        text-align: right;\n",
       "    }\n",
       "</style>\n",
       "<table border=\"1\" class=\"dataframe\">\n",
       "  <thead>\n",
       "    <tr style=\"text-align: right;\">\n",
       "      <th></th>\n",
       "      <th>RI</th>\n",
       "      <th>Na</th>\n",
       "      <th>Mg</th>\n",
       "      <th>Al</th>\n",
       "      <th>Si</th>\n",
       "      <th>K</th>\n",
       "      <th>Ca</th>\n",
       "      <th>Ba</th>\n",
       "      <th>Fe</th>\n",
       "      <th>Type</th>\n",
       "    </tr>\n",
       "  </thead>\n",
       "  <tbody>\n",
       "    <tr>\n",
       "      <th>0</th>\n",
       "      <td>1.52101</td>\n",
       "      <td>13.64</td>\n",
       "      <td>4.49</td>\n",
       "      <td>1.10</td>\n",
       "      <td>71.78</td>\n",
       "      <td>0.06</td>\n",
       "      <td>8.75</td>\n",
       "      <td>0.0</td>\n",
       "      <td>0.0</td>\n",
       "      <td>1</td>\n",
       "    </tr>\n",
       "    <tr>\n",
       "      <th>1</th>\n",
       "      <td>1.51761</td>\n",
       "      <td>13.89</td>\n",
       "      <td>3.60</td>\n",
       "      <td>1.36</td>\n",
       "      <td>72.73</td>\n",
       "      <td>0.48</td>\n",
       "      <td>7.83</td>\n",
       "      <td>0.0</td>\n",
       "      <td>0.0</td>\n",
       "      <td>1</td>\n",
       "    </tr>\n",
       "    <tr>\n",
       "      <th>2</th>\n",
       "      <td>1.51618</td>\n",
       "      <td>13.53</td>\n",
       "      <td>3.55</td>\n",
       "      <td>1.54</td>\n",
       "      <td>72.99</td>\n",
       "      <td>0.39</td>\n",
       "      <td>7.78</td>\n",
       "      <td>0.0</td>\n",
       "      <td>0.0</td>\n",
       "      <td>1</td>\n",
       "    </tr>\n",
       "    <tr>\n",
       "      <th>3</th>\n",
       "      <td>1.51766</td>\n",
       "      <td>13.21</td>\n",
       "      <td>3.69</td>\n",
       "      <td>1.29</td>\n",
       "      <td>72.61</td>\n",
       "      <td>0.57</td>\n",
       "      <td>8.22</td>\n",
       "      <td>0.0</td>\n",
       "      <td>0.0</td>\n",
       "      <td>1</td>\n",
       "    </tr>\n",
       "    <tr>\n",
       "      <th>4</th>\n",
       "      <td>1.51742</td>\n",
       "      <td>13.27</td>\n",
       "      <td>3.62</td>\n",
       "      <td>1.24</td>\n",
       "      <td>73.08</td>\n",
       "      <td>0.55</td>\n",
       "      <td>8.07</td>\n",
       "      <td>0.0</td>\n",
       "      <td>0.0</td>\n",
       "      <td>1</td>\n",
       "    </tr>\n",
       "  </tbody>\n",
       "</table>\n",
       "</div>"
      ],
      "text/plain": [
       "        RI     Na    Mg    Al     Si     K    Ca   Ba   Fe  Type\n",
       "0  1.52101  13.64  4.49  1.10  71.78  0.06  8.75  0.0  0.0     1\n",
       "1  1.51761  13.89  3.60  1.36  72.73  0.48  7.83  0.0  0.0     1\n",
       "2  1.51618  13.53  3.55  1.54  72.99  0.39  7.78  0.0  0.0     1\n",
       "3  1.51766  13.21  3.69  1.29  72.61  0.57  8.22  0.0  0.0     1\n",
       "4  1.51742  13.27  3.62  1.24  73.08  0.55  8.07  0.0  0.0     1"
      ]
     },
     "execution_count": 341,
     "metadata": {},
     "output_type": "execute_result"
    }
   ],
   "source": [
    "#to view the structure of data\n",
    "df.head()\n"
   ]
  },
  {
   "cell_type": "code",
   "execution_count": 342,
   "id": "1a0f2259",
   "metadata": {},
   "outputs": [],
   "source": [
    "#removing the column to be predicted from the dataframe\n",
    "X2=df.drop([\"Type\"],axis=1)\n",
    "\n",
    "#creating an array for the target column prediction\n",
    "y=df[\"Type\"]"
   ]
  },
  {
   "cell_type": "code",
   "execution_count": 616,
   "id": "212eef5e",
   "metadata": {},
   "outputs": [],
   "source": [
    "#splitting data(both X,y) for train & for test\n",
    "\n",
    "from sklearn.model_selection import train_test_split\n",
    "X_train, X_test, y_train, y_test = train_test_split(X2, y, test_size= 0.8 ,random_state=0)"
   ]
  },
  {
   "cell_type": "code",
   "execution_count": 617,
   "id": "1e440458",
   "metadata": {},
   "outputs": [],
   "source": [
    "from sklearn.naive_bayes import GaussianNB\n",
    "from sklearn import metrics\n",
    "from sklearn.metrics import accuracy_score"
   ]
  },
  {
   "cell_type": "code",
   "execution_count": 618,
   "id": "65d74aa3",
   "metadata": {},
   "outputs": [
    {
     "name": "stdout",
     "output_type": "stream",
     "text": [
      "Naïve Bayes Accuracy is: 0.5348837209302325\n"
     ]
    }
   ],
   "source": [
    "#1) Implement Naïve Bayes method using scikit-learn library\n",
    "##Training data with Gaussian Naive Bayes\n",
    "gnb = GaussianNB()\n",
    "# Training on X_Train & y_Train\n",
    "#Applying prediction on X_Test\n",
    "y_pred = gnb.fit(X_train, y_train).predict(X_test)\n",
    "# calculating the accuracy score(accuracy score is calculated on predicted value & Actual value)\n",
    "acc_nb=accuracy_score(y_test,y_pred)\n",
    "print(\"Naïve Bayes Accuracy is:\", acc_nb)"
   ]
  },
  {
   "cell_type": "code",
   "execution_count": 619,
   "id": "ffa12b2c",
   "metadata": {},
   "outputs": [
    {
     "name": "stdout",
     "output_type": "stream",
     "text": [
      "Naïve Bayes Accuracy is:\n"
     ]
    },
    {
     "data": {
      "text/plain": [
       "53.49"
      ]
     },
     "execution_count": 619,
     "metadata": {},
     "output_type": "execute_result"
    }
   ],
   "source": [
    "#Calculating % and rounding off to 2 digits\n",
    "print(\"Naïve Bayes Accuracy is:\")\n",
    "round(acc_nb * 100,2)"
   ]
  },
  {
   "cell_type": "code",
   "execution_count": 620,
   "id": "621d18b2",
   "metadata": {},
   "outputs": [
    {
     "name": "stdout",
     "output_type": "stream",
     "text": [
      "              precision    recall  f1-score   support\n",
      "\n",
      "           1       0.58      0.23      0.33        60\n",
      "           2       0.45      0.72      0.55        61\n",
      "           3       0.00      0.00      0.00        15\n",
      "           5       0.47      0.88      0.61         8\n",
      "           6       0.55      1.00      0.71         6\n",
      "           7       0.88      0.95      0.91        22\n",
      "\n",
      "    accuracy                           0.53       172\n",
      "   macro avg       0.49      0.63      0.52       172\n",
      "weighted avg       0.52      0.53      0.48       172\n",
      "\n"
     ]
    }
   ],
   "source": [
    "## Classification report is used to measure the quality of predictions using classification algorithm and accuracy\n",
    "print(metrics.classification_report(y_test,y_pred, zero_division=0))"
   ]
  },
  {
   "cell_type": "code",
   "execution_count": 621,
   "id": "7b0105be",
   "metadata": {},
   "outputs": [
    {
     "name": "stdout",
     "output_type": "stream",
     "text": [
      "LinearSVM Accuracy is: 0.622093023255814\n"
     ]
    }
   ],
   "source": [
    "#2) Implement linear SVM method using scikit library\n",
    "# importing packages for SVM.SVC\n",
    "from sklearn.svm import SVC, LinearSVC\n",
    "\n",
    "#Training data with Support vector Classification\n",
    "svc = SVC(kernel ='linear', C = 5)\n",
    "# Training on X_Train & y_Train\n",
    "svc.fit(X_train, y_train)\n",
    "#Applying prediction on X_Test\n",
    "y_pred = svc.predict(X_test)\n",
    "# calculating the accuracy score(accuracy score is calculated on predicted value & Actual value)\n",
    "acc_svc=accuracy_score(y_test,y_pred)\n",
    "print(\"LinearSVM Accuracy is:\", acc_svc)"
   ]
  },
  {
   "cell_type": "code",
   "execution_count": 622,
   "id": "20c2b055",
   "metadata": {},
   "outputs": [
    {
     "name": "stdout",
     "output_type": "stream",
     "text": [
      "SVM Accuracy is:\n"
     ]
    },
    {
     "data": {
      "text/plain": [
       "62.21"
      ]
     },
     "execution_count": 622,
     "metadata": {},
     "output_type": "execute_result"
    }
   ],
   "source": [
    "#Calculating % and rounding off to 2 digits\n",
    "print(\"SVM Accuracy is:\")\n",
    "round(acc_svc * 100 , 2)"
   ]
  },
  {
   "cell_type": "code",
   "execution_count": 623,
   "id": "55f33440",
   "metadata": {},
   "outputs": [
    {
     "name": "stdout",
     "output_type": "stream",
     "text": [
      "              precision    recall  f1-score   support\n",
      "\n",
      "           1       0.67      0.62      0.64        60\n",
      "           2       0.54      0.67      0.60        61\n",
      "           3       0.00      0.00      0.00        15\n",
      "           5       0.47      0.88      0.61         8\n",
      "           6       0.67      0.67      0.67         6\n",
      "           7       0.95      0.82      0.88        22\n",
      "\n",
      "    accuracy                           0.62       172\n",
      "   macro avg       0.55      0.61      0.57       172\n",
      "weighted avg       0.59      0.62      0.60       172\n",
      "\n"
     ]
    }
   ],
   "source": [
    "## Classification report is used to measure the quality of predictions using classification algorithm and accuracy\n",
    "print(metrics.classification_report(y_test,y_pred, zero_division=0))"
   ]
  },
  {
   "cell_type": "code",
   "execution_count": 586,
   "id": "580ca57d",
   "metadata": {},
   "outputs": [],
   "source": [
    "# For classification problem, the best score is 100% accuracy.\n",
    "# In Gaussian Naive Bayes accuracy score is 53.49%\n",
    "# In Support vector Classification accuracy score is 62.61%\n",
    "\n",
    "# So in this data set Linear SVM is better than Gaussian Naive Bayes, \n",
    "# as accuracy score of Linear Svm is highest."
   ]
  },
  {
   "cell_type": "code",
   "execution_count": null,
   "id": "9bfc1172",
   "metadata": {},
   "outputs": [],
   "source": []
  }
 ],
 "metadata": {
  "kernelspec": {
   "display_name": "Python 3 (ipykernel)",
   "language": "python",
   "name": "python3"
  },
  "language_info": {
   "codemirror_mode": {
    "name": "ipython",
    "version": 3
   },
   "file_extension": ".py",
   "mimetype": "text/x-python",
   "name": "python",
   "nbconvert_exporter": "python",
   "pygments_lexer": "ipython3",
   "version": "3.9.13"
  }
 },
 "nbformat": 4,
 "nbformat_minor": 5
}
